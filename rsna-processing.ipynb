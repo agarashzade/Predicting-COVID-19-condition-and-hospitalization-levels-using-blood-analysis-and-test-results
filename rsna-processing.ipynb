{
 "cells": [
  {
   "cell_type": "code",
   "execution_count": 1,
   "id": "b9a5e8e8",
   "metadata": {
    "_cell_guid": "b1076dfc-b9ad-4769-8c92-a6c4dae69d19",
    "_uuid": "8f2839f25d086af736a60e9eeb907d3b93b6e0e5",
    "execution": {
     "iopub.execute_input": "2023-01-24T17:58:48.388427Z",
     "iopub.status.busy": "2023-01-24T17:58:48.387641Z",
     "iopub.status.idle": "2023-01-24T17:58:54.553990Z",
     "shell.execute_reply": "2023-01-24T17:58:54.552744Z"
    },
    "papermill": {
     "duration": 6.175064,
     "end_time": "2023-01-24T17:58:54.556619",
     "exception": false,
     "start_time": "2023-01-24T17:58:48.381555",
     "status": "completed"
    },
    "tags": []
   },
   "outputs": [
    {
     "data": {
      "text/plain": [
       "\"\\nimport os\\nfor dirname, _, filenames in os.walk('/kaggle/input'):\\n    for filename in filenames:\\n        print(os.path.join(dirname, filename))\\n        \\n\""
      ]
     },
     "execution_count": 1,
     "metadata": {},
     "output_type": "execute_result"
    }
   ],
   "source": [
    "# This Python 3 environment comes with many helpful analytics libraries installed\n",
    "# It is defined by the kaggle/python Docker image: https://github.com/kaggle/docker-python\n",
    "# For example, here's several helpful packages to load\n",
    "\n",
    "import pandas as pd\n",
    "import pydicom as dicom\n",
    "import numpy as np\n",
    "import tensorflow as tf\n",
    "import cv2\n",
    "\n",
    "from matplotlib import pyplot as plt\n",
    "from pathlib import Path\n",
    "\n",
    "\n",
    "# data processing, CSV file I/O (e.g. pd.read_csv)\n",
    "\n",
    "# Input data files are available in the read-only \"../input/\" directory\n",
    "# For example, running this (by clicking run or pressing Shift+Enter) will list all files under the input directory\n",
    "\"\"\"\n",
    "import os\n",
    "for dirname, _, filenames in os.walk('/kaggle/input'):\n",
    "    for filename in filenames:\n",
    "        print(os.path.join(dirname, filename))\n",
    "        \n",
    "\"\"\"\n",
    "\n",
    "# You can write up to 20GB to the current directory (/kaggle/working/) that gets preserved as output when you create a version using \"Save & Run All\" \n",
    "# You can also write temporary files to /kaggle/temp/, but they won't be saved outside of the current session"
   ]
  },
  {
   "cell_type": "code",
   "execution_count": 2,
   "id": "a033400d",
   "metadata": {
    "execution": {
     "iopub.execute_input": "2023-01-24T17:58:54.565309Z",
     "iopub.status.busy": "2023-01-24T17:58:54.564540Z",
     "iopub.status.idle": "2023-01-24T17:58:54.570837Z",
     "shell.execute_reply": "2023-01-24T17:58:54.569478Z"
    },
    "papermill": {
     "duration": 0.013009,
     "end_time": "2023-01-24T17:58:54.573132",
     "exception": false,
     "start_time": "2023-01-24T17:58:54.560123",
     "status": "completed"
    },
    "tags": []
   },
   "outputs": [],
   "source": [
    "DATADIR = Path(\"/kaggle/input/rsna-breast-cancer-detection\")\n",
    "ORIGINAL_DATASET = DATADIR / \"train.csv\"\n",
    "NEW_DATASET = Path(\"/kaggle/working/postprocessed.csv\")\n",
    "TEST_SET = DATADIR / \"test.csv\"\n",
    "SEED = 42"
   ]
  },
  {
   "cell_type": "code",
   "execution_count": 3,
   "id": "2e79eba8",
   "metadata": {
    "execution": {
     "iopub.execute_input": "2023-01-24T17:58:54.581206Z",
     "iopub.status.busy": "2023-01-24T17:58:54.580712Z",
     "iopub.status.idle": "2023-01-24T17:58:54.613165Z",
     "shell.execute_reply": "2023-01-24T17:58:54.611923Z"
    },
    "papermill": {
     "duration": 0.03932,
     "end_time": "2023-01-24T17:58:54.615721",
     "exception": false,
     "start_time": "2023-01-24T17:58:54.576401",
     "status": "completed"
    },
    "tags": []
   },
   "outputs": [
    {
     "data": {
      "text/html": [
       "<div>\n",
       "<style scoped>\n",
       "    .dataframe tbody tr th:only-of-type {\n",
       "        vertical-align: middle;\n",
       "    }\n",
       "\n",
       "    .dataframe tbody tr th {\n",
       "        vertical-align: top;\n",
       "    }\n",
       "\n",
       "    .dataframe thead th {\n",
       "        text-align: right;\n",
       "    }\n",
       "</style>\n",
       "<table border=\"1\" class=\"dataframe\">\n",
       "  <thead>\n",
       "    <tr style=\"text-align: right;\">\n",
       "      <th></th>\n",
       "      <th>site_id</th>\n",
       "      <th>patient_id</th>\n",
       "      <th>image_id</th>\n",
       "      <th>laterality</th>\n",
       "      <th>view</th>\n",
       "      <th>age</th>\n",
       "      <th>implant</th>\n",
       "      <th>machine_id</th>\n",
       "      <th>prediction_id</th>\n",
       "    </tr>\n",
       "  </thead>\n",
       "  <tbody>\n",
       "    <tr>\n",
       "      <th>0</th>\n",
       "      <td>2</td>\n",
       "      <td>10008</td>\n",
       "      <td>736471439</td>\n",
       "      <td>L</td>\n",
       "      <td>MLO</td>\n",
       "      <td>81</td>\n",
       "      <td>0</td>\n",
       "      <td>21</td>\n",
       "      <td>10008_L</td>\n",
       "    </tr>\n",
       "    <tr>\n",
       "      <th>1</th>\n",
       "      <td>2</td>\n",
       "      <td>10008</td>\n",
       "      <td>1591370361</td>\n",
       "      <td>L</td>\n",
       "      <td>CC</td>\n",
       "      <td>81</td>\n",
       "      <td>0</td>\n",
       "      <td>21</td>\n",
       "      <td>10008_L</td>\n",
       "    </tr>\n",
       "    <tr>\n",
       "      <th>2</th>\n",
       "      <td>2</td>\n",
       "      <td>10008</td>\n",
       "      <td>68070693</td>\n",
       "      <td>R</td>\n",
       "      <td>MLO</td>\n",
       "      <td>81</td>\n",
       "      <td>0</td>\n",
       "      <td>21</td>\n",
       "      <td>10008_R</td>\n",
       "    </tr>\n",
       "    <tr>\n",
       "      <th>3</th>\n",
       "      <td>2</td>\n",
       "      <td>10008</td>\n",
       "      <td>361203119</td>\n",
       "      <td>R</td>\n",
       "      <td>CC</td>\n",
       "      <td>81</td>\n",
       "      <td>0</td>\n",
       "      <td>21</td>\n",
       "      <td>10008_R</td>\n",
       "    </tr>\n",
       "  </tbody>\n",
       "</table>\n",
       "</div>"
      ],
      "text/plain": [
       "   site_id  patient_id    image_id laterality view  age  implant  machine_id  \\\n",
       "0        2       10008   736471439          L  MLO   81        0          21   \n",
       "1        2       10008  1591370361          L   CC   81        0          21   \n",
       "2        2       10008    68070693          R  MLO   81        0          21   \n",
       "3        2       10008   361203119          R   CC   81        0          21   \n",
       "\n",
       "  prediction_id  \n",
       "0       10008_L  \n",
       "1       10008_L  \n",
       "2       10008_R  \n",
       "3       10008_R  "
      ]
     },
     "execution_count": 3,
     "metadata": {},
     "output_type": "execute_result"
    }
   ],
   "source": [
    "test_df = pd.read_csv(TEST_SET)\n",
    "test_df.head()"
   ]
  },
  {
   "cell_type": "code",
   "execution_count": 4,
   "id": "9edad9d8",
   "metadata": {
    "execution": {
     "iopub.execute_input": "2023-01-24T17:58:54.624412Z",
     "iopub.status.busy": "2023-01-24T17:58:54.623968Z",
     "iopub.status.idle": "2023-01-24T17:59:04.232777Z",
     "shell.execute_reply": "2023-01-24T17:59:04.231244Z"
    },
    "papermill": {
     "duration": 9.616512,
     "end_time": "2023-01-24T17:59:04.235796",
     "exception": false,
     "start_time": "2023-01-24T17:58:54.619284",
     "status": "completed"
    },
    "tags": []
   },
   "outputs": [],
   "source": [
    "train_df = pd.read_csv(ORIGINAL_DATASET)\n",
    "base_path = \"/kaggle/input/rsna-breast-cancer-detection/train_images/\"\n",
    "all_paths = []\n",
    "for k in range(len(train_df)):\n",
    "    row = train_df.iloc[k, :]\n",
    "    all_paths.append(base_path + str(row.patient_id) + \"/\" + str(row.image_id) + \".dcm\")\n",
    "    \n",
    "train_df[\"path\"] = all_paths"
   ]
  },
  {
   "cell_type": "code",
   "execution_count": 5,
   "id": "e9281976",
   "metadata": {
    "execution": {
     "iopub.execute_input": "2023-01-24T17:59:04.244802Z",
     "iopub.status.busy": "2023-01-24T17:59:04.244363Z",
     "iopub.status.idle": "2023-01-24T17:59:04.324037Z",
     "shell.execute_reply": "2023-01-24T17:59:04.322408Z"
    },
    "papermill": {
     "duration": 0.087312,
     "end_time": "2023-01-24T17:59:04.326920",
     "exception": false,
     "start_time": "2023-01-24T17:59:04.239608",
     "status": "completed"
    },
    "tags": []
   },
   "outputs": [
    {
     "data": {
      "text/html": [
       "<div>\n",
       "<style scoped>\n",
       "    .dataframe tbody tr th:only-of-type {\n",
       "        vertical-align: middle;\n",
       "    }\n",
       "\n",
       "    .dataframe tbody tr th {\n",
       "        vertical-align: top;\n",
       "    }\n",
       "\n",
       "    .dataframe thead th {\n",
       "        text-align: right;\n",
       "    }\n",
       "</style>\n",
       "<table border=\"1\" class=\"dataframe\">\n",
       "  <thead>\n",
       "    <tr style=\"text-align: right;\">\n",
       "      <th></th>\n",
       "      <th></th>\n",
       "      <th>site_id</th>\n",
       "      <th>patient_id</th>\n",
       "      <th>image_id</th>\n",
       "      <th>age</th>\n",
       "      <th>cancer</th>\n",
       "      <th>biopsy</th>\n",
       "      <th>invasive</th>\n",
       "      <th>BIRADS</th>\n",
       "      <th>implant</th>\n",
       "      <th>density</th>\n",
       "      <th>machine_id</th>\n",
       "      <th>difficult_negative_case</th>\n",
       "      <th>path</th>\n",
       "    </tr>\n",
       "    <tr>\n",
       "      <th>view</th>\n",
       "      <th>laterality</th>\n",
       "      <th></th>\n",
       "      <th></th>\n",
       "      <th></th>\n",
       "      <th></th>\n",
       "      <th></th>\n",
       "      <th></th>\n",
       "      <th></th>\n",
       "      <th></th>\n",
       "      <th></th>\n",
       "      <th></th>\n",
       "      <th></th>\n",
       "      <th></th>\n",
       "      <th></th>\n",
       "    </tr>\n",
       "  </thead>\n",
       "  <tbody>\n",
       "    <tr>\n",
       "      <th rowspan=\"2\" valign=\"top\">CC</th>\n",
       "      <th>L</th>\n",
       "      <td>13295</td>\n",
       "      <td>13295</td>\n",
       "      <td>13295</td>\n",
       "      <td>13286</td>\n",
       "      <td>13295</td>\n",
       "      <td>13295</td>\n",
       "      <td>13295</td>\n",
       "      <td>6375</td>\n",
       "      <td>13295</td>\n",
       "      <td>7067</td>\n",
       "      <td>13295</td>\n",
       "      <td>13295</td>\n",
       "      <td>13295</td>\n",
       "    </tr>\n",
       "    <tr>\n",
       "      <th>R</th>\n",
       "      <td>13470</td>\n",
       "      <td>13470</td>\n",
       "      <td>13470</td>\n",
       "      <td>13462</td>\n",
       "      <td>13470</td>\n",
       "      <td>13470</td>\n",
       "      <td>13470</td>\n",
       "      <td>6418</td>\n",
       "      <td>13470</td>\n",
       "      <td>7229</td>\n",
       "      <td>13470</td>\n",
       "      <td>13470</td>\n",
       "      <td>13470</td>\n",
       "    </tr>\n",
       "    <tr>\n",
       "      <th rowspan=\"2\" valign=\"top\">MLO</th>\n",
       "      <th>L</th>\n",
       "      <td>13958</td>\n",
       "      <td>13958</td>\n",
       "      <td>13958</td>\n",
       "      <td>13947</td>\n",
       "      <td>13958</td>\n",
       "      <td>13958</td>\n",
       "      <td>13958</td>\n",
       "      <td>6782</td>\n",
       "      <td>13958</td>\n",
       "      <td>7571</td>\n",
       "      <td>13958</td>\n",
       "      <td>13958</td>\n",
       "      <td>13958</td>\n",
       "    </tr>\n",
       "    <tr>\n",
       "      <th>R</th>\n",
       "      <td>13945</td>\n",
       "      <td>13945</td>\n",
       "      <td>13945</td>\n",
       "      <td>13936</td>\n",
       "      <td>13945</td>\n",
       "      <td>13945</td>\n",
       "      <td>13945</td>\n",
       "      <td>6685</td>\n",
       "      <td>13945</td>\n",
       "      <td>7570</td>\n",
       "      <td>13945</td>\n",
       "      <td>13945</td>\n",
       "      <td>13945</td>\n",
       "    </tr>\n",
       "  </tbody>\n",
       "</table>\n",
       "</div>"
      ],
      "text/plain": [
       "                 site_id  patient_id  image_id    age  cancer  biopsy  \\\n",
       "view laterality                                                         \n",
       "CC   L             13295       13295     13295  13286   13295   13295   \n",
       "     R             13470       13470     13470  13462   13470   13470   \n",
       "MLO  L             13958       13958     13958  13947   13958   13958   \n",
       "     R             13945       13945     13945  13936   13945   13945   \n",
       "\n",
       "                 invasive  BIRADS  implant  density  machine_id  \\\n",
       "view laterality                                                   \n",
       "CC   L              13295    6375    13295     7067       13295   \n",
       "     R              13470    6418    13470     7229       13470   \n",
       "MLO  L              13958    6782    13958     7571       13958   \n",
       "     R              13945    6685    13945     7570       13945   \n",
       "\n",
       "                 difficult_negative_case   path  \n",
       "view laterality                                  \n",
       "CC   L                             13295  13295  \n",
       "     R                             13470  13470  \n",
       "MLO  L                             13958  13958  \n",
       "     R                             13945  13945  "
      ]
     },
     "execution_count": 5,
     "metadata": {},
     "output_type": "execute_result"
    }
   ],
   "source": [
    "# lets remove the views that do not belong to CC and MLO\n",
    "train_df = train_df[train_df.view.apply(lambda x: x in [\"CC\", \"MLO\"])]\n",
    "train_df.groupby([\"view\", \"laterality\"]).count()\n"
   ]
  },
  {
   "cell_type": "code",
   "execution_count": 6,
   "id": "b2314e44",
   "metadata": {
    "execution": {
     "iopub.execute_input": "2023-01-24T17:59:04.337196Z",
     "iopub.status.busy": "2023-01-24T17:59:04.336755Z",
     "iopub.status.idle": "2023-01-24T17:59:26.752732Z",
     "shell.execute_reply": "2023-01-24T17:59:26.751463Z"
    },
    "papermill": {
     "duration": 22.424015,
     "end_time": "2023-01-24T17:59:26.755356",
     "exception": false,
     "start_time": "2023-01-24T17:59:04.331341",
     "status": "completed"
    },
    "tags": []
   },
   "outputs": [
    {
     "name": "stdout",
     "output_type": "stream",
     "text": [
      "Number of selected patients: 3569\n",
      "Number of remaining patients: 8344\n",
      "Total patients: 11913\n"
     ]
    }
   ],
   "source": [
    "# take all the positive cases\n",
    "patients = []\n",
    "patients += train_df[train_df.cancer == 1].patient_id.unique().tolist()\n",
    "patients += train_df[train_df.difficult_negative_case].patient_id.unique().tolist()\n",
    "patients = list(np.unique(patients))\n",
    "remaining = train_df[train_df.patient_id.apply(lambda x: x not in patients)].patient_id.unique().tolist()\n",
    "print(f\"Number of selected patients: {len(patients)}\")\n",
    "print(f\"Number of remaining patients: {len(remaining)}\")\n",
    "print(f\"Total patients: {len(patients) + len(remaining)}\")"
   ]
  },
  {
   "cell_type": "code",
   "execution_count": 7,
   "id": "f6ce4230",
   "metadata": {
    "execution": {
     "iopub.execute_input": "2023-01-24T17:59:26.764527Z",
     "iopub.status.busy": "2023-01-24T17:59:26.764086Z",
     "iopub.status.idle": "2023-01-24T17:59:26.778638Z",
     "shell.execute_reply": "2023-01-24T17:59:26.777542Z"
    },
    "papermill": {
     "duration": 0.022113,
     "end_time": "2023-01-24T17:59:26.781315",
     "exception": false,
     "start_time": "2023-01-24T17:59:26.759202",
     "status": "completed"
    },
    "tags": []
   },
   "outputs": [],
   "source": [
    "class Processor():\n",
    "    \n",
    "    def __init__(\n",
    "            self,\n",
    "            path\n",
    "    ):\n",
    "        self.path = path\n",
    "        \n",
    "    def read_images(self, image_size=None,fix_monochrome = True):\n",
    "        dc = dicom.dcmread(self.path)\n",
    "        img = dc.pixel_array\n",
    "        if fix_monochrome and dc.PhotometricInterpretation == \"MONOCHROME1\":\n",
    "            img = np.amax(img) - img\n",
    "            \n",
    "        if image_size:\n",
    "            img = cv2.resize(img,image_size)\n",
    "            \n",
    "        img = img - np.min(img)\n",
    "        img = img / np.max(img)\n",
    "        img = (img * 255).astype(np.uint8)\n",
    "\n",
    "        return img\n",
    "    \n",
    "    def apply_clahe(self,img,cliplimit=2,tilegridsize=(8,8)):\n",
    "        clahe = cv2.createCLAHE(clipLimit=cliplimit, tileGridSize=tilegridsize)\n",
    "        cl1 = clahe.apply(img)\n",
    "        return cl1\n",
    "\n",
    "    def apply_eh(self, img):\n",
    "        img = cv2.equalizeHist(img)\n",
    "        return img\n",
    "    \n",
    "    def crop_roi(self,img):\n",
    "        \n",
    "        if len(img.shape) > 2:\n",
    "            gray = cv2.cvtColor(img, cv2.COLOR_BGR2GRAY).astype(np.uint8)\n",
    "        else:\n",
    "            gray = img.astype(np.uint8)\n",
    "\n",
    "        ret, gray = cv2.threshold(gray, 50, 255, cv2.THRESH_BINARY_INV)\n",
    "        gray = cv2.morphologyEx(gray, cv2.MORPH_OPEN, cv2.getStructuringElement(cv2.MORPH_ELLIPSE, (128, 128)))\n",
    "        gray = cv2.bitwise_not(gray)\n",
    "\n",
    "        contours, hierarchy = cv2.findContours(gray, cv2.RETR_TREE, cv2.CHAIN_APPROX_SIMPLE)\n",
    "        contour = max(contours, key = cv2.contourArea)\n",
    "\n",
    "        x, y, w, h = cv2.boundingRect(contour)\n",
    "        roi = img[y: y + h, x: x + w]\n",
    "    \n",
    "        \n",
    "        return roi\n",
    "        \n",
    "        \n",
    "        \n",
    "        \n",
    "\n",
    "        "
   ]
  },
  {
   "cell_type": "code",
   "execution_count": 8,
   "id": "fba0db2e",
   "metadata": {
    "execution": {
     "iopub.execute_input": "2023-01-24T17:59:26.790441Z",
     "iopub.status.busy": "2023-01-24T17:59:26.790014Z",
     "iopub.status.idle": "2023-01-24T17:59:28.780610Z",
     "shell.execute_reply": "2023-01-24T17:59:28.779464Z"
    },
    "papermill": {
     "duration": 1.998013,
     "end_time": "2023-01-24T17:59:28.783076",
     "exception": false,
     "start_time": "2023-01-24T17:59:26.785063",
     "status": "completed"
    },
    "tags": []
   },
   "outputs": [
    {
     "data": {
      "text/plain": [
       "<matplotlib.image.AxesImage at 0x7ff20a2af7d0>"
      ]
     },
     "execution_count": 8,
     "metadata": {},
     "output_type": "execute_result"
    },
    {
     "data": {
      "image/png": "[encoded data removed]",
      "text/plain": [
       "<Figure size 432x288 with 1 Axes>"
      ]
     },
     "metadata": {
      "needs_background": "light"
     },
     "output_type": "display_data"
    }
   ],
   "source": [
    "proc = Processor(train_df['path'][1])\n",
    "img = proc.read_images(image_size=(256,256))\n",
    "img = proc.apply_clahe(img)\n",
    "img = proc.crop_roi(img)\n",
    "plt.imshow(img)"
   ]
  }
 ],
 "metadata": {
  "kernelspec": {
   "display_name": "Python 3",
   "language": "python",
   "name": "python3"
  },
  "language_info": {
   "codemirror_mode": {
    "name": "ipython",
    "version": 3
   },
   "file_extension": ".py",
   "mimetype": "text/x-python",
   "name": "python",
   "nbconvert_exporter": "python",
   "pygments_lexer": "ipython3",
   "version": "3.7.12"
  },
  "papermill": {
   "default_parameters": {},
   "duration": 52.143773,
   "end_time": "2023-01-24T17:59:31.962657",
   "environment_variables": {},
   "exception": null,
   "input_path": "__notebook__.ipynb",
   "output_path": "__notebook__.ipynb",
   "parameters": {},
   "start_time": "2023-01-24T17:58:39.818884",
   "version": "2.3.4"
  }
 },
 "nbformat": 4,
 "nbformat_minor": 5
}
